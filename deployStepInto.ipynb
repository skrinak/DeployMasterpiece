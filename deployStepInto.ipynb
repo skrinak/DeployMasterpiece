{
 "cells": [
  {
   "cell_type": "markdown",
   "id": "3ac2cb08-58e4-4fba-ba60-1374cfea96a0",
   "metadata": {},
   "source": [
    "# Deploy step into masterpiece"
   ]
  },
  {
   "cell_type": "code",
   "execution_count": 1,
   "id": "3a9bfb8b-9934-43d5-a59e-9635f90abd96",
   "metadata": {},
   "outputs": [],
   "source": [
    "# conda install -c conda-forge jupyterlab -y\n",
    "# conda install -c anaconda boto3 -y\n",
    "# conda install pandas -y"
   ]
  },
  {
   "cell_type": "code",
   "execution_count": 2,
   "id": "bd6dc6ef-d3c8-474f-8ccc-5a1b4b46699e",
   "metadata": {},
   "outputs": [],
   "source": [
    "import os\n",
    "import boto3\n",
    "import re\n",
    "import json\n",
    "import pandas as pd\n",
    "import numpy as np"
   ]
  },
  {
   "cell_type": "code",
   "execution_count": 3,
   "id": "de6bb573-2684-4dd3-ba20-7e63dda4b852",
   "metadata": {},
   "outputs": [],
   "source": [
    "S3client = boto3.client(\n",
    "    's3',\n",
    "    aws_access_key_id=os.getenv(\"AWS_ACCESS_KEY_ID\"),\n",
    "    aws_secret_access_key=os.getenv(\"AWS_SECRET_ACCESS_KEY\")\n",
    ")\n",
    "region = \"us-west-2\"\n",
    "role = \"arn:aws:iam::921212210452:role/stepIn2\"\n",
    "prefix = \"2022-11-17\""
   ]
  },
  {
   "cell_type": "code",
   "execution_count": 4,
   "id": "e386cf32-0d1b-47b4-a16e-b598e572d13c",
   "metadata": {},
   "outputs": [],
   "source": [
    "bucket_name = \"stepin2mpiece\"\n",
    "folder = \"models/\"\n",
    "model_file_name = \"style_7.pth\"\n",
    "S3client.download_file( bucket_name, folder + model_file_name, '/tmp/' + model_file_name )"
   ]
  },
  {
   "cell_type": "code",
   "execution_count": null,
   "id": "14b79ca3-0410-444f-87b5-e09ad4d9cc8d",
   "metadata": {},
   "outputs": [],
   "source": [
    "get_ipython().system('tar czvf model.tar.gz $model_file_name')\n",
    "fObj = open(\"model.tar.gz\", \"rb\")\n",
    "key = os.path.join(prefix, \"model.tar.gz\")\n",
    "boto3.Session().resource(\"s3\").Bucket(bucket).Object(key).upload_fileobj(fObj)"
   ]
  },
  {
   "cell_type": "code",
   "execution_count": null,
   "id": "7b68e09e-2d99-48d5-b2d0-b323e9bd4931",
   "metadata": {},
   "outputs": [],
   "source": [
    "try:\n",
    "    response = S3client.upload_file(file_name, bucket, object_name)\n",
    "except ClientError as e:\n",
    "    logging.error(e)\n",
    "    return False\n",
    "return True"
   ]
  }
 ],
 "metadata": {
  "kernelspec": {
   "display_name": "Python 3 (ipykernel)",
   "language": "python",
   "name": "python3"
  },
  "language_info": {
   "codemirror_mode": {
    "name": "ipython",
    "version": 3
   },
   "file_extension": ".py",
   "mimetype": "text/x-python",
   "name": "python",
   "nbconvert_exporter": "python",
   "pygments_lexer": "ipython3",
   "version": "3.9.15"
  }
 },
 "nbformat": 4,
 "nbformat_minor": 5
}
