{
 "cells": [
  {
   "cell_type": "code",
   "execution_count": 2,
   "id": "3c0b304c-743e-4d49-bd51-981f2ee3e810",
   "metadata": {},
   "outputs": [],
   "source": [
    "import sagemaker\n",
    "sagemaker_session = sagemaker.session.Session()"
   ]
  },
  {
   "cell_type": "code",
   "execution_count": 3,
   "id": "1a10f3ad-a833-472d-ab63-d3cee3c46908",
   "metadata": {},
   "outputs": [],
   "source": [
    "# Get pre-trained model\n",
    "style_model = \"style_7\" # actual filename has .pth\n",
    "\n",
    "bucket = \"stepin2mpiece\"\n",
    "model_dir = \"models/\"\n",
    "local_model = style_model + \".pth\"\n",
    "tmp_local_model = \"/tmp/\"  + local_model\n",
    "zipped_file = style_model + \".tar.gz\"\n",
    "zipped_local_model = \"/tmp/\" + style_model + \".tar.gz\"\n",
    "zipped_model_key = model_dir + style_model + \".tar.gz\"\n",
    "model_path = \"s3://\" + bucket + \"/\" +zipped_model_key"
   ]
  },
  {
   "cell_type": "code",
   "execution_count": 4,
   "id": "db2af36e-610e-4c65-bbe3-75fc784cde31",
   "metadata": {},
   "outputs": [
    {
     "name": "stdout",
     "output_type": "stream",
     "text": [
      "style_7.pth/\n",
      "style_7.pth/style_7.pth\n"
     ]
    }
   ],
   "source": [
    "pre_trained_model = sagemaker_session.download_data(tmp_local_model, bucket, model_dir + style_model + \".pth\")\n",
    "\n",
    "! (cd /tmp; tar -czvf  {zipped_file} {local_model} )\n",
    "\n",
    "model_uri_pt = sagemaker_session.upload_data(path=zipped_local_model, key_prefix=zipped_model_key)\n",
    "\n",
    "! rm -rf {local_model} {zipped_local_model}"
   ]
  },
  {
   "cell_type": "code",
   "execution_count": 6,
   "id": "ba984605-6464-4a44-b205-ea07fa68356d",
   "metadata": {},
   "outputs": [
    {
     "name": "stdout",
     "output_type": "stream",
     "text": [
      "arn:aws:iam::921212210452:role/service-role/AmazonSageMaker-ExecutionRole-20221110T154407\n",
      "EndpointName= STEPIN2-2022-11-19-02-35-50\n",
      "-----------!"
     ]
    }
   ],
   "source": [
    "# deploy the model with a new endpoint\n",
    "import os\n",
    "import boto3\n",
    "import re\n",
    "import json\n",
    "import pandas as pd\n",
    "import numpy as np\n",
    "import sagemaker\n",
    "from sagemaker import get_execution_role\n",
    "from sagemaker.sklearn.model import SKLearnModel\n",
    "from sklearn.datasets import fetch_california_housing\n",
    "from sklearn.model_selection import train_test_split\n",
    "import time\n",
    "from sagemaker.pytorch import PyTorchModel\n",
    "from sagemaker import get_execution_role\n",
    "\n",
    "role = get_execution_role()\n",
    "print(role)\n",
    "\n",
    "pytorch_model = PyTorchModel(\n",
    "    model_data= model_path, \n",
    "    role=role,\n",
    "    source_dir=\"code\",\n",
    "    entry_point='inference.py',\n",
    "    framework_version='1.8',\n",
    "    py_version=\"py3\")\n",
    "\n",
    "endpoint_name = \"STEPIN2-\" + time.strftime(\"%Y-%m-%d-%H-%M-%S\", time.gmtime())\n",
    "print(\"EndpointName= {}\".format(endpoint_name))\n",
    "\n",
    "predictor = pytorch_model.deploy(initial_instance_count=1, \n",
    "                                 instance_type=\"ml.g4dn.4xlarge\", \n",
    "                                 endpoint_name=endpoint_name)"
   ]
  },
  {
   "cell_type": "code",
   "execution_count": null,
   "id": "358b2403-1ff0-4e54-a545-14697bb7f9ec",
   "metadata": {},
   "outputs": [],
   "source": []
  }
 ],
 "metadata": {
  "instance_type": "ml.t3.medium",
  "kernelspec": {
   "display_name": "Python 3 (PyTorch 1.8 Python 3.6 GPU Optimized)",
   "language": "python",
   "name": "python3__SAGEMAKER_INTERNAL__arn:aws:sagemaker:us-west-2:236514542706:image/pytorch-1.8-gpu-py36"
  },
  "language_info": {
   "codemirror_mode": {
    "name": "ipython",
    "version": 3
   },
   "file_extension": ".py",
   "mimetype": "text/x-python",
   "name": "python",
   "nbconvert_exporter": "python",
   "pygments_lexer": "ipython3",
   "version": "3.6.13"
  }
 },
 "nbformat": 4,
 "nbformat_minor": 5
}
