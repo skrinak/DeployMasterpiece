{
 "cells": [
  {
   "cell_type": "code",
   "execution_count": 8,
   "id": "4e38f72a-d525-4918-9683-6670800ee121",
   "metadata": {},
   "outputs": [
    {
     "name": "stdout",
     "output_type": "stream",
     "text": [
      "{\"instances\": {\"RequestID\": 1, \"RequestTask\": \"detect\", \"BackTime\": 20}}\n",
      "{'result': True}\n"
     ]
    }
   ],
   "source": [
    "# test the endpoint by invoke\n",
    "import json\n",
    "import boto3\n",
    "import numpy as np\n",
    "\n",
    "## If just testing inference use existing endpoint\n",
    "endpoint_name = \"STEPIN2-2022-11-19-02-01-45\" \n",
    "\n",
    "input_json = {\n",
    "    \"RequestID\": 1,\n",
    "    \"RequestTask\": \"detect\",\n",
    "    \"BackTime\": 20\n",
    "}\n",
    "\n",
    "runtime = boto3.client(\"sagemaker-runtime\")\n",
    "body_str = json.dumps({\"instances\": input_json})\n",
    "print(body_str)\n",
    "\n",
    "response = runtime.invoke_endpoint(\n",
    "    EndpointName=endpoint_name, \n",
    "    ContentType=\"application/json\",\n",
    "    Body=body_str\n",
    ")\n",
    "\n",
    "prediction = response[\"Body\"].read()\n",
    "json_dict = json.loads(prediction)\n",
    "print(json_dict)"
   ]
  },
  {
   "cell_type": "code",
   "execution_count": null,
   "id": "20701772-61d4-407e-840d-dcfd10b7aef9",
   "metadata": {},
   "outputs": [],
   "source": []
  }
 ],
 "metadata": {
  "instance_type": "ml.t3.medium",
  "kernelspec": {
   "display_name": "Python 3 (Data Science)",
   "language": "python",
   "name": "python3__SAGEMAKER_INTERNAL__arn:aws:sagemaker:us-west-2:236514542706:image/datascience-1.0"
  },
  "language_info": {
   "codemirror_mode": {
    "name": "ipython",
    "version": 3
   },
   "file_extension": ".py",
   "mimetype": "text/x-python",
   "name": "python",
   "nbconvert_exporter": "python",
   "pygments_lexer": "ipython3",
   "version": "3.7.10"
  }
 },
 "nbformat": 4,
 "nbformat_minor": 5
}
